{
 "metadata": {
  "language_info": {
   "codemirror_mode": {
    "name": "ipython",
    "version": 3
   },
   "file_extension": ".py",
   "mimetype": "text/x-python",
   "name": "python",
   "nbconvert_exporter": "python",
   "pygments_lexer": "ipython3",
   "version": "3.7.6-final"
  },
  "orig_nbformat": 2,
  "kernelspec": {
   "name": "python3",
   "display_name": "Python 3",
   "language": "python"
  }
 },
 "nbformat": 4,
 "nbformat_minor": 2,
 "cells": [
  {
   "cell_type": "code",
   "execution_count": 13,
   "metadata": {},
   "outputs": [],
   "source": [
    "import pandas as pd\n",
    "import numpy as np\n",
    "import matplotlib.pyplot as plt"
   ]
  },
  {
   "cell_type": "code",
   "execution_count": 14,
   "metadata": {},
   "outputs": [
    {
     "output_type": "execute_result",
     "data": {
      "text/plain": [
       "  LOCATION INDICATOR SUBJECT MEASURE FREQUENCY     TIME     Value Flag Codes\n",
       "0      AUS       HUR     TOT   PC_LF         M  2020-01  5.269611        NaN\n",
       "1      AUS       HUR     TOT   PC_LF         M  2020-02  5.081623        NaN\n",
       "2      AUS       HUR     TOT   PC_LF         M  2020-03  5.220101        NaN\n",
       "3      AUS       HUR     TOT   PC_LF         M  2020-04  6.358871        NaN\n",
       "4      AUS       HUR     TOT   PC_LF         M  2020-05  7.068942        NaN"
      ],
      "text/html": "<div>\n<style scoped>\n    .dataframe tbody tr th:only-of-type {\n        vertical-align: middle;\n    }\n\n    .dataframe tbody tr th {\n        vertical-align: top;\n    }\n\n    .dataframe thead th {\n        text-align: right;\n    }\n</style>\n<table border=\"1\" class=\"dataframe\">\n  <thead>\n    <tr style=\"text-align: right;\">\n      <th></th>\n      <th>LOCATION</th>\n      <th>INDICATOR</th>\n      <th>SUBJECT</th>\n      <th>MEASURE</th>\n      <th>FREQUENCY</th>\n      <th>TIME</th>\n      <th>Value</th>\n      <th>Flag Codes</th>\n    </tr>\n  </thead>\n  <tbody>\n    <tr>\n      <th>0</th>\n      <td>AUS</td>\n      <td>HUR</td>\n      <td>TOT</td>\n      <td>PC_LF</td>\n      <td>M</td>\n      <td>2020-01</td>\n      <td>5.269611</td>\n      <td>NaN</td>\n    </tr>\n    <tr>\n      <th>1</th>\n      <td>AUS</td>\n      <td>HUR</td>\n      <td>TOT</td>\n      <td>PC_LF</td>\n      <td>M</td>\n      <td>2020-02</td>\n      <td>5.081623</td>\n      <td>NaN</td>\n    </tr>\n    <tr>\n      <th>2</th>\n      <td>AUS</td>\n      <td>HUR</td>\n      <td>TOT</td>\n      <td>PC_LF</td>\n      <td>M</td>\n      <td>2020-03</td>\n      <td>5.220101</td>\n      <td>NaN</td>\n    </tr>\n    <tr>\n      <th>3</th>\n      <td>AUS</td>\n      <td>HUR</td>\n      <td>TOT</td>\n      <td>PC_LF</td>\n      <td>M</td>\n      <td>2020-04</td>\n      <td>6.358871</td>\n      <td>NaN</td>\n    </tr>\n    <tr>\n      <th>4</th>\n      <td>AUS</td>\n      <td>HUR</td>\n      <td>TOT</td>\n      <td>PC_LF</td>\n      <td>M</td>\n      <td>2020-05</td>\n      <td>7.068942</td>\n      <td>NaN</td>\n    </tr>\n  </tbody>\n</table>\n</div>"
     },
     "metadata": {},
     "execution_count": 14
    }
   ],
   "source": [
    "data = pd.read_csv(\"2020 unemployment.csv\")\n",
    "data.head()"
   ]
  },
  {
   "cell_type": "code",
   "execution_count": 15,
   "metadata": {},
   "outputs": [
    {
     "output_type": "stream",
     "name": "stdout",
     "text": [
      "<class 'pandas.core.frame.DataFrame'>\nRangeIndex: 535 entries, 0 to 534\nData columns (total 8 columns):\n #   Column      Non-Null Count  Dtype  \n---  ------      --------------  -----  \n 0   LOCATION    535 non-null    object \n 1   INDICATOR   535 non-null    object \n 2   SUBJECT     535 non-null    object \n 3   MEASURE     535 non-null    object \n 4   FREQUENCY   535 non-null    object \n 5   TIME        535 non-null    object \n 6   Value       535 non-null    float64\n 7   Flag Codes  21 non-null     object \ndtypes: float64(1), object(7)\nmemory usage: 33.6+ KB\n"
     ]
    }
   ],
   "source": [
    "data.info()"
   ]
  },
  {
   "cell_type": "code",
   "execution_count": 18,
   "metadata": {},
   "outputs": [
    {
     "output_type": "execute_result",
     "data": {
      "text/plain": [
       "  LOCATION INDICATOR SUBJECT MEASURE FREQUENCY     Value  Year Month\n",
       "0      AUS       HUR     TOT   PC_LF         M  5.269611  2020    01\n",
       "1      AUS       HUR     TOT   PC_LF         M  5.081623  2020    02\n",
       "2      AUS       HUR     TOT   PC_LF         M  5.220101  2020    03\n",
       "3      AUS       HUR     TOT   PC_LF         M  6.358871  2020    04\n",
       "4      AUS       HUR     TOT   PC_LF         M  7.068942  2020    05"
      ],
      "text/html": "<div>\n<style scoped>\n    .dataframe tbody tr th:only-of-type {\n        vertical-align: middle;\n    }\n\n    .dataframe tbody tr th {\n        vertical-align: top;\n    }\n\n    .dataframe thead th {\n        text-align: right;\n    }\n</style>\n<table border=\"1\" class=\"dataframe\">\n  <thead>\n    <tr style=\"text-align: right;\">\n      <th></th>\n      <th>LOCATION</th>\n      <th>INDICATOR</th>\n      <th>SUBJECT</th>\n      <th>MEASURE</th>\n      <th>FREQUENCY</th>\n      <th>Value</th>\n      <th>Year</th>\n      <th>Month</th>\n    </tr>\n  </thead>\n  <tbody>\n    <tr>\n      <th>0</th>\n      <td>AUS</td>\n      <td>HUR</td>\n      <td>TOT</td>\n      <td>PC_LF</td>\n      <td>M</td>\n      <td>5.269611</td>\n      <td>2020</td>\n      <td>01</td>\n    </tr>\n    <tr>\n      <th>1</th>\n      <td>AUS</td>\n      <td>HUR</td>\n      <td>TOT</td>\n      <td>PC_LF</td>\n      <td>M</td>\n      <td>5.081623</td>\n      <td>2020</td>\n      <td>02</td>\n    </tr>\n    <tr>\n      <th>2</th>\n      <td>AUS</td>\n      <td>HUR</td>\n      <td>TOT</td>\n      <td>PC_LF</td>\n      <td>M</td>\n      <td>5.220101</td>\n      <td>2020</td>\n      <td>03</td>\n    </tr>\n    <tr>\n      <th>3</th>\n      <td>AUS</td>\n      <td>HUR</td>\n      <td>TOT</td>\n      <td>PC_LF</td>\n      <td>M</td>\n      <td>6.358871</td>\n      <td>2020</td>\n      <td>04</td>\n    </tr>\n    <tr>\n      <th>4</th>\n      <td>AUS</td>\n      <td>HUR</td>\n      <td>TOT</td>\n      <td>PC_LF</td>\n      <td>M</td>\n      <td>7.068942</td>\n      <td>2020</td>\n      <td>05</td>\n    </tr>\n  </tbody>\n</table>\n</div>"
     },
     "metadata": {},
     "execution_count": 18
    }
   ],
   "source": [
    "#split time into year and month \n",
    "time = data['TIME'].str.split(\"-\", expand=True)\n",
    "data['Year'] = time[0]\n",
    "data['Month'] = time[1]\n",
    "data.drop(['TIME','Flag Codes'], axis = 1, inplace = True)\n",
    "data.head()"
   ]
  },
  {
   "cell_type": "code",
   "execution_count": 20,
   "metadata": {},
   "outputs": [
    {
     "output_type": "execute_result",
     "data": {
      "text/plain": [
       "  Location Indicator Subject Measure  Year Month Frequency     Value\n",
       "0      AUS       HUR     TOT   PC_LF  2020    01         M  5.269611\n",
       "1      AUS       HUR     TOT   PC_LF  2020    02         M  5.081623\n",
       "2      AUS       HUR     TOT   PC_LF  2020    03         M  5.220101\n",
       "3      AUS       HUR     TOT   PC_LF  2020    04         M  6.358871\n",
       "4      AUS       HUR     TOT   PC_LF  2020    05         M  7.068942"
      ],
      "text/html": "<div>\n<style scoped>\n    .dataframe tbody tr th:only-of-type {\n        vertical-align: middle;\n    }\n\n    .dataframe tbody tr th {\n        vertical-align: top;\n    }\n\n    .dataframe thead th {\n        text-align: right;\n    }\n</style>\n<table border=\"1\" class=\"dataframe\">\n  <thead>\n    <tr style=\"text-align: right;\">\n      <th></th>\n      <th>Location</th>\n      <th>Indicator</th>\n      <th>Subject</th>\n      <th>Measure</th>\n      <th>Year</th>\n      <th>Month</th>\n      <th>Frequency</th>\n      <th>Value</th>\n    </tr>\n  </thead>\n  <tbody>\n    <tr>\n      <th>0</th>\n      <td>AUS</td>\n      <td>HUR</td>\n      <td>TOT</td>\n      <td>PC_LF</td>\n      <td>2020</td>\n      <td>01</td>\n      <td>M</td>\n      <td>5.269611</td>\n    </tr>\n    <tr>\n      <th>1</th>\n      <td>AUS</td>\n      <td>HUR</td>\n      <td>TOT</td>\n      <td>PC_LF</td>\n      <td>2020</td>\n      <td>02</td>\n      <td>M</td>\n      <td>5.081623</td>\n    </tr>\n    <tr>\n      <th>2</th>\n      <td>AUS</td>\n      <td>HUR</td>\n      <td>TOT</td>\n      <td>PC_LF</td>\n      <td>2020</td>\n      <td>03</td>\n      <td>M</td>\n      <td>5.220101</td>\n    </tr>\n    <tr>\n      <th>3</th>\n      <td>AUS</td>\n      <td>HUR</td>\n      <td>TOT</td>\n      <td>PC_LF</td>\n      <td>2020</td>\n      <td>04</td>\n      <td>M</td>\n      <td>6.358871</td>\n    </tr>\n    <tr>\n      <th>4</th>\n      <td>AUS</td>\n      <td>HUR</td>\n      <td>TOT</td>\n      <td>PC_LF</td>\n      <td>2020</td>\n      <td>05</td>\n      <td>M</td>\n      <td>7.068942</td>\n    </tr>\n  </tbody>\n</table>\n</div>"
     },
     "metadata": {},
     "execution_count": 20
    }
   ],
   "source": [
    "#Rename/re- columns names\n",
    "data.columns = ['Location','Indicator','Subject','Measure','Frequency','Value','Year','Month']\n",
    "data = data[['Location', 'Indicator', 'Subject', 'Measure', 'Year', 'Month', 'Frequency', 'Value']]\n",
    "data.head()"
   ]
  },
  {
   "cell_type": "code",
   "execution_count": 21,
   "metadata": {},
   "outputs": [],
   "source": [
    "data.to_csv('Updated 2020 unemployment.csv', index = None)"
   ]
  },
  {
   "cell_type": "code",
   "execution_count": null,
   "metadata": {},
   "outputs": [],
   "source": []
  }
 ]
}